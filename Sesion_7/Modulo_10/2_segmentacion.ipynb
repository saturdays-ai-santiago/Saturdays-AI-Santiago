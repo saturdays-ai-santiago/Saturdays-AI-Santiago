{
  "cells": [
    {
      "metadata": {
        "id": "dMpuEakfbAHe",
        "colab_type": "text",
        "slideshow": {
          "slide_type": "slide"
        }
      },
      "cell_type": "markdown",
      "source": "## Segmentacion de Imagenes con CamVid\nTraducción al español del la [clase de Fast.ai](https://nbviewer.jupyter.org/github/fastai/course-v3/blob/master/nbs/dl1/lesson3-camvid-tiramisu.ipynb) por [Fernando Bernuy B.](https://scholar.google.cl/citations?user=Q4tEQYYAAAAJ&hl)"
    },
    {
      "metadata": {
        "slideshow": {
          "slide_type": "slide"
        }
      },
      "cell_type": "markdown",
      "source": "Partiremos inicializando el notebook y las librerias"
    },
    {
      "metadata": {
        "id": "4tC95IJQbAHh",
        "colab_type": "code",
        "colab": {},
        "trusted": true,
        "slideshow": {
          "slide_type": "-"
        }
      },
      "cell_type": "code",
      "source": "%reload_ext autoreload\n%autoreload 2\n%matplotlib inline",
      "execution_count": null,
      "outputs": []
    },
    {
      "metadata": {
        "id": "hGLJmEXsbAHl",
        "colab_type": "code",
        "colab": {},
        "trusted": true,
        "slideshow": {
          "slide_type": "-"
        }
      },
      "cell_type": "code",
      "source": "#import torch\n#torch.cuda.set_device(2)\nfrom fastai import *\nfrom fastai.vision import *\nfrom fastai.callbacks.hooks import *",
      "execution_count": null,
      "outputs": []
    },
    {
      "metadata": {
        "id": "wNR0VkyxbAHo",
        "colab_type": "text",
        "slideshow": {
          "slide_type": "slide"
        }
      },
      "cell_type": "markdown",
      "source": "## Cargar Base de Datos\nPara este caso utilizaremos una versión modificada de CamVid del paper `The One Hundred Layer Tiramisu`, con imágenes pequeñas y menos clases. Esta versión de CamVid esta disponible en el siguiente repositorio:\n\n    git clone https://github.com/alexgkendall/SegNet-Tutorial.git"
    },
    {
      "metadata": {},
      "cell_type": "markdown",
      "source": "Al igual que en el caso anterior, vamos a usar links simbólicos de los datos de la base de datos para evitar problemas con la descarga, pero en condiciones normales, deberíamos hacer un `clone` del repositorio."
    },
    {
      "metadata": {
        "trusted": true
      },
      "cell_type": "code",
      "source": "!mkdir ~/SegNet-Tutorial\n!mkdir ~/SegNet-Tutorial/CamVid\n!ln -s /data/home/instructor1/SegNet-Tutorial/CamVid/t* ~/SegNet-Tutorial/CamVid\n!ln -s /data/home/instructor1/SegNet-Tutorial/CamVid/v* ~/SegNet-Tutorial/CamVid",
      "execution_count": null,
      "outputs": []
    },
    {
      "metadata": {
        "id": "Qqu_BoBqbc1J",
        "colab_type": "code",
        "colab": {
          "base_uri": "https://localhost:8080/",
          "height": 107
        },
        "outputId": "6f891916-1c4b-43d7-a771-a6e113bc0e60",
        "executionInfo": {
          "status": "ok",
          "timestamp": 1569348013104,
          "user_tz": 180,
          "elapsed": 23734,
          "user": {
            "displayName": "Fernando Bernuy",
            "photoUrl": "https://lh3.googleusercontent.com/a-/AAuE7mCfng_4SawMuRFH1hHGNPU87F08Xj3_tmvUpXK8GA=s64",
            "userId": "04009063324923989717"
          }
        },
        "trusted": true,
        "slideshow": {
          "slide_type": "-"
        }
      },
      "cell_type": "code",
      "source": "#!cd ~\n#!git clone https://github.com/alexgkendall/SegNet-Tutorial.git",
      "execution_count": null,
      "outputs": []
    },
    {
      "metadata": {
        "slideshow": {
          "slide_type": "subslide"
        }
      },
      "cell_type": "markdown",
      "source": "Creamos el objeto Path apuntando a la base de la carpeta con la base de datos que descargamos y miramos el contenido."
    },
    {
      "metadata": {
        "id": "CYMu256XbAHp",
        "colab_type": "code",
        "colab": {},
        "trusted": true
      },
      "cell_type": "code",
      "source": "path = Path.home()/'SegNet-Tutorial/CamVid'",
      "execution_count": null,
      "outputs": []
    },
    {
      "metadata": {
        "id": "iANQv9YDbAHs",
        "colab_type": "code",
        "outputId": "65884188-1383-49d0-eddb-5ca4874e8cab",
        "colab": {
          "base_uri": "https://localhost:8080/",
          "height": 179
        },
        "executionInfo": {
          "status": "ok",
          "timestamp": 1569348133187,
          "user_tz": 180,
          "elapsed": 465,
          "user": {
            "displayName": "Fernando Bernuy",
            "photoUrl": "https://lh3.googleusercontent.com/a-/AAuE7mCfng_4SawMuRFH1hHGNPU87F08Xj3_tmvUpXK8GA=s64",
            "userId": "04009063324923989717"
          }
        },
        "trusted": true
      },
      "cell_type": "code",
      "source": "path.ls()",
      "execution_count": null,
      "outputs": []
    },
    {
      "metadata": {
        "id": "MMyJZrtMbAHw",
        "colab_type": "text",
        "slideshow": {
          "slide_type": "slide"
        }
      },
      "cell_type": "markdown",
      "source": "## Data\n\n¿Cómo están estructuradas las imágenes y sus etiquetas?"
    },
    {
      "metadata": {
        "id": "JNQq9VXfbAHx",
        "colab_type": "code",
        "outputId": "48f335a5-127a-469b-f9f0-702ec87e588f",
        "colab": {
          "base_uri": "https://localhost:8080/",
          "height": 71
        },
        "executionInfo": {
          "status": "ok",
          "timestamp": 1569348139601,
          "user_tz": 180,
          "elapsed": 983,
          "user": {
            "displayName": "Fernando Bernuy",
            "photoUrl": "https://lh3.googleusercontent.com/a-/AAuE7mCfng_4SawMuRFH1hHGNPU87F08Xj3_tmvUpXK8GA=s64",
            "userId": "04009063324923989717"
          }
        },
        "trusted": true,
        "slideshow": {
          "slide_type": "-"
        }
      },
      "cell_type": "code",
      "source": "fnames = get_image_files(path/'val')\nfnames[:3]",
      "execution_count": null,
      "outputs": []
    },
    {
      "metadata": {
        "id": "aRbipzowbAH0",
        "colab_type": "code",
        "outputId": "1f7e9962-c0f5-4e46-920f-310c3198b197",
        "colab": {
          "base_uri": "https://localhost:8080/",
          "height": 71
        },
        "executionInfo": {
          "status": "ok",
          "timestamp": 1569348140977,
          "user_tz": 180,
          "elapsed": 629,
          "user": {
            "displayName": "Fernando Bernuy",
            "photoUrl": "https://lh3.googleusercontent.com/a-/AAuE7mCfng_4SawMuRFH1hHGNPU87F08Xj3_tmvUpXK8GA=s64",
            "userId": "04009063324923989717"
          }
        },
        "trusted": true,
        "slideshow": {
          "slide_type": "-"
        }
      },
      "cell_type": "code",
      "source": "lbl_names = get_image_files(path/'valannot')\nlbl_names[:3]",
      "execution_count": null,
      "outputs": []
    },
    {
      "metadata": {
        "slideshow": {
          "slide_type": "subslide"
        }
      },
      "cell_type": "markdown",
      "source": "Creamos un método que retorna el path a la imagen con las etiquetas a partir del path de la imagen original. Además, incluimos la equivalencia de etiqueta a `str` para nuestra interpretación."
    },
    {
      "metadata": {
        "id": "4rW63oUvbAH6",
        "colab_type": "code",
        "colab": {},
        "trusted": true
      },
      "cell_type": "code",
      "source": "def get_y_fn(x): return Path(str(x.parent)+'annot')/x.name\n\ncodes = array(['Sky', 'Building', 'Pole', 'Road', 'Sidewalk', 'Tree',\n    'Sign', 'Fence', 'Car', 'Pedestrian', 'Cyclist', 'Void'])",
      "execution_count": null,
      "outputs": []
    },
    {
      "metadata": {
        "slideshow": {
          "slide_type": "subslide"
        }
      },
      "cell_type": "markdown",
      "source": "Ahora veamos una imagen y su etiquetado:"
    },
    {
      "metadata": {
        "id": "MvATPsAibAH3",
        "colab_type": "code",
        "outputId": "9008139f-564e-453a-c8b8-8ccfa97fcc77",
        "colab": {
          "base_uri": "https://localhost:8080/",
          "height": 261
        },
        "executionInfo": {
          "status": "ok",
          "timestamp": 1569348143566,
          "user_tz": 180,
          "elapsed": 1809,
          "user": {
            "displayName": "Fernando Bernuy",
            "photoUrl": "https://lh3.googleusercontent.com/a-/AAuE7mCfng_4SawMuRFH1hHGNPU87F08Xj3_tmvUpXK8GA=s64",
            "userId": "04009063324923989717"
          }
        },
        "trusted": true,
        "slideshow": {
          "slide_type": "-"
        }
      },
      "cell_type": "code",
      "source": "img_f = fnames[0]\nimg = open_image(img_f)\nimg.show(figsize=(5,5))\n\nmask = open_mask(get_y_fn(img_f))\nmask.show(figsize=(5,5), alpha=1)",
      "execution_count": null,
      "outputs": []
    },
    {
      "metadata": {
        "id": "GHDzBoe9bAH_",
        "colab_type": "code",
        "outputId": "d639a9a8-0dbd-416a-de07-02222f205746",
        "colab": {
          "base_uri": "https://localhost:8080/",
          "height": 143
        },
        "executionInfo": {
          "status": "ok",
          "timestamp": 1569348149525,
          "user_tz": 180,
          "elapsed": 1168,
          "user": {
            "displayName": "Fernando Bernuy",
            "photoUrl": "https://lh3.googleusercontent.com/a-/AAuE7mCfng_4SawMuRFH1hHGNPU87F08Xj3_tmvUpXK8GA=s64",
            "userId": "04009063324923989717"
          }
        },
        "trusted": true,
        "slideshow": {
          "slide_type": "subslide"
        }
      },
      "cell_type": "code",
      "source": "src_size = np.array(mask.shape[1:])\nsrc_size,mask.data",
      "execution_count": null,
      "outputs": []
    },
    {
      "metadata": {
        "id": "qzafCaxMbAIC",
        "colab_type": "text",
        "slideshow": {
          "slide_type": "slide"
        }
      },
      "cell_type": "markdown",
      "source": "## Generamos los Datasets\n\nUtilizaremos la mitad del tamaño de la imagen y debemos configurar el `batch_size` para que pueda funcionar en nuestro equipo."
    },
    {
      "metadata": {
        "id": "QPGsNja9bAID",
        "colab_type": "code",
        "colab": {},
        "trusted": true
      },
      "cell_type": "code",
      "source": "bs,size = 6,src_size//2",
      "execution_count": null,
      "outputs": []
    },
    {
      "metadata": {
        "id": "fiBiS8a7bAIG",
        "colab_type": "code",
        "colab": {},
        "trusted": true
      },
      "cell_type": "code",
      "source": "src = (SegmentationItemList.from_folder(path)\n       .split_by_folder(valid='val')\n       .label_from_func(get_y_fn, classes=codes))",
      "execution_count": null,
      "outputs": []
    },
    {
      "metadata": {
        "id": "yT4RZ4s8bAII",
        "colab_type": "code",
        "colab": {},
        "trusted": true
      },
      "cell_type": "code",
      "source": "data = (src.transform(get_transforms(), tfm_y=True)\n        .databunch(bs=bs)\n        .normalize(imagenet_stats))",
      "execution_count": null,
      "outputs": []
    },
    {
      "metadata": {
        "id": "XyMgcRvAbAIL",
        "colab_type": "code",
        "outputId": "b6dadf51-d099-4559-d99c-d72742d50ff3",
        "colab": {
          "base_uri": "https://localhost:8080/",
          "height": 513
        },
        "executionInfo": {
          "status": "ok",
          "timestamp": 1569348195347,
          "user_tz": 180,
          "elapsed": 9721,
          "user": {
            "displayName": "Fernando Bernuy",
            "photoUrl": "https://lh3.googleusercontent.com/a-/AAuE7mCfng_4SawMuRFH1hHGNPU87F08Xj3_tmvUpXK8GA=s64",
            "userId": "04009063324923989717"
          }
        },
        "trusted": true,
        "slideshow": {
          "slide_type": "subslide"
        },
        "scrolled": true
      },
      "cell_type": "code",
      "source": "data.show_batch(2, figsize=(10,7))",
      "execution_count": null,
      "outputs": []
    },
    {
      "metadata": {
        "id": "_sa7l1g4bAIO",
        "colab_type": "text",
        "slideshow": {
          "slide_type": "slide"
        }
      },
      "cell_type": "markdown",
      "source": "## Cargamos el Modelo\n\nLa base de datos contiene una etiqueta `void` para referirse a todos los elementos que no estan incluidos dentro de las otras etiquetas, y no deben ser consideradas para la evaluacion del desempeño, por lo que debemos implementar una funcion de `accuracy` que considere este efecto como métrica."
    },
    {
      "metadata": {
        "id": "4h5c6rKcbAIP",
        "colab_type": "code",
        "colab": {},
        "trusted": true
      },
      "cell_type": "code",
      "source": "name2id = {v:k for k,v in enumerate(codes)}\nvoid_code = name2id['Void']\n\ndef acc_camvid(input, target):\n    target = target.squeeze(1)\n    mask = target != void_code\n    return (input.argmax(dim=1)[mask]==target[mask]).float().mean()",
      "execution_count": null,
      "outputs": []
    },
    {
      "metadata": {
        "slideshow": {
          "slide_type": "subslide"
        }
      },
      "cell_type": "markdown",
      "source": "Para la segmentación utilizaremos la estructura [UNET](https://docs.fast.ai/vision.models.unet.html#DynamicUnet) a partir de un `resnet34`. Para esto utilizaremos la función [`unet_learner`](https://docs.fast.ai/vision.learner.html#unet_learner), que nos entregarar el `learner`apropiado para esta tarea."
    },
    {
      "metadata": {
        "id": "sbC28e3UbAIS",
        "colab_type": "code",
        "colab": {},
        "trusted": true
      },
      "cell_type": "code",
      "source": "metrics=acc_camvid\nwd=1e-2",
      "execution_count": null,
      "outputs": []
    },
    {
      "metadata": {
        "id": "WDWRib96bAIU",
        "colab_type": "code",
        "colab": {
          "base_uri": "https://localhost:8080/",
          "height": 53
        },
        "outputId": "2b388bda-3bbb-41fb-f7dd-b7c9f547f028",
        "executionInfo": {
          "status": "ok",
          "timestamp": 1569348228090,
          "user_tz": 180,
          "elapsed": 8916,
          "user": {
            "displayName": "Fernando Bernuy",
            "photoUrl": "https://lh3.googleusercontent.com/a-/AAuE7mCfng_4SawMuRFH1hHGNPU87F08Xj3_tmvUpXK8GA=s64",
            "userId": "04009063324923989717"
          }
        },
        "trusted": true
      },
      "cell_type": "code",
      "source": "learn = unet_learner(data, models.resnet34, metrics=metrics, wd=wd, bottle=True).to_fp16()",
      "execution_count": null,
      "outputs": []
    },
    {
      "metadata": {
        "slideshow": {
          "slide_type": "subslide"
        }
      },
      "cell_type": "markdown",
      "source": "elegimos un buen LR"
    },
    {
      "metadata": {
        "id": "OrSegd9gbAIX",
        "colab_type": "code",
        "outputId": "50452aab-aad8-4dbd-c518-114ea5bd1a22",
        "colab": {
          "base_uri": "https://localhost:8080/",
          "height": 301
        },
        "executionInfo": {
          "status": "ok",
          "timestamp": 1569348402394,
          "user_tz": 180,
          "elapsed": 179547,
          "user": {
            "displayName": "Fernando Bernuy",
            "photoUrl": "https://lh3.googleusercontent.com/a-/AAuE7mCfng_4SawMuRFH1hHGNPU87F08Xj3_tmvUpXK8GA=s64",
            "userId": "04009063324923989717"
          }
        },
        "trusted": true
      },
      "cell_type": "code",
      "source": "lr_find(learn)\nlearn.recorder.plot()",
      "execution_count": null,
      "outputs": []
    },
    {
      "metadata": {
        "id": "_pckGFjobAIa",
        "colab_type": "code",
        "colab": {},
        "trusted": true
      },
      "cell_type": "code",
      "source": "lr=1e-4",
      "execution_count": null,
      "outputs": []
    },
    {
      "metadata": {
        "slideshow": {
          "slide_type": "subslide"
        }
      },
      "cell_type": "markdown",
      "source": "y entrenamos un ciclo"
    },
    {
      "metadata": {
        "id": "Hd_3ivLdbAIe",
        "colab_type": "code",
        "outputId": "66dd6da6-d763-424e-fc94-96e1634b01df",
        "colab": {
          "base_uri": "https://localhost:8080/",
          "height": 359
        },
        "executionInfo": {
          "status": "ok",
          "timestamp": 1569349500601,
          "user_tz": 180,
          "elapsed": 1045676,
          "user": {
            "displayName": "Fernando Bernuy",
            "photoUrl": "https://lh3.googleusercontent.com/a-/AAuE7mCfng_4SawMuRFH1hHGNPU87F08Xj3_tmvUpXK8GA=s64",
            "userId": "04009063324923989717"
          }
        },
        "trusted": true
      },
      "cell_type": "code",
      "source": "learn.fit_one_cycle(10, slice(lr), pct_start=0.8)",
      "execution_count": null,
      "outputs": []
    },
    {
      "metadata": {
        "id": "ONiDVH7WbAIi",
        "colab_type": "code",
        "colab": {},
        "trusted": true
      },
      "cell_type": "code",
      "source": "learn.save('stage-1')",
      "execution_count": null,
      "outputs": []
    },
    {
      "metadata": {
        "id": "DbOeeEcnbAIk",
        "colab_type": "code",
        "colab": {},
        "trusted": true
      },
      "cell_type": "code",
      "source": "learn.load('stage-1');",
      "execution_count": null,
      "outputs": []
    },
    {
      "metadata": {
        "slideshow": {
          "slide_type": "subslide"
        }
      },
      "cell_type": "markdown",
      "source": "Ahora hacemos fine-tunning de la red"
    },
    {
      "metadata": {
        "id": "cG1lJzmUbAIn",
        "colab_type": "code",
        "colab": {},
        "trusted": true
      },
      "cell_type": "code",
      "source": "learn.unfreeze()",
      "execution_count": null,
      "outputs": []
    },
    {
      "metadata": {
        "id": "ng6qWQIgbAIp",
        "colab_type": "code",
        "colab": {},
        "trusted": true
      },
      "cell_type": "code",
      "source": "lrs = slice(lr/100,lr)",
      "execution_count": null,
      "outputs": []
    },
    {
      "metadata": {
        "id": "p5LALJrIbAIt",
        "colab_type": "code",
        "outputId": "3615dc61-51a9-4fcd-e749-28f78213e8a0",
        "colab": {
          "base_uri": "https://localhost:8080/",
          "height": 421
        },
        "executionInfo": {
          "status": "ok",
          "timestamp": 1569350811248,
          "user_tz": 180,
          "elapsed": 1294966,
          "user": {
            "displayName": "Fernando Bernuy",
            "photoUrl": "https://lh3.googleusercontent.com/a-/AAuE7mCfng_4SawMuRFH1hHGNPU87F08Xj3_tmvUpXK8GA=s64",
            "userId": "04009063324923989717"
          }
        },
        "trusted": true
      },
      "cell_type": "code",
      "source": "learn.fit_one_cycle(12, lrs, pct_start=0.8)",
      "execution_count": null,
      "outputs": []
    },
    {
      "metadata": {
        "id": "2kvM9QKrbAIw",
        "colab_type": "code",
        "colab": {},
        "trusted": true
      },
      "cell_type": "code",
      "source": "learn.save('stage-2');",
      "execution_count": null,
      "outputs": []
    },
    {
      "metadata": {
        "slideshow": {
          "slide_type": "subslide"
        }
      },
      "cell_type": "markdown",
      "source": "veamos como se comporto el entrenamiento"
    },
    {
      "metadata": {
        "trusted": true
      },
      "cell_type": "code",
      "source": "learn.recorder.plot()\nlearn.recorder.plot_lr()\nlearn.recorder.plot_losses()",
      "execution_count": null,
      "outputs": []
    },
    {
      "metadata": {
        "id": "5jGNapLlbAIy",
        "colab_type": "text",
        "slideshow": {
          "slide_type": "slide"
        }
      },
      "cell_type": "markdown",
      "source": "## Ahora en grande\n\nVamos a utilizar las imágenes en tamaño completo. Para esto tenemos que corregir el tamaño en el `transform`, poner un `batch_size` apropiado y generar un nuevo `learn`.\n\nLo primero que haremos será borrar el `learn` anterior, para liberar la memoria de la GPU, y luego crearemos el nuevo."
    },
    {
      "metadata": {
        "id": "oIKRLi_4bAIz",
        "colab_type": "code",
        "outputId": "1b051a93-7189-4570-c2c2-f1e8ec980220",
        "colab": {
          "base_uri": "https://localhost:8080/",
          "height": 35
        },
        "executionInfo": {
          "status": "ok",
          "timestamp": 1569350904243,
          "user_tz": 180,
          "elapsed": 995,
          "user": {
            "displayName": "Fernando Bernuy",
            "photoUrl": "https://lh3.googleusercontent.com/a-/AAuE7mCfng_4SawMuRFH1hHGNPU87F08Xj3_tmvUpXK8GA=s64",
            "userId": "04009063324923989717"
          }
        },
        "trusted": true
      },
      "cell_type": "code",
      "source": "learn=None\ngc.collect()",
      "execution_count": null,
      "outputs": []
    },
    {
      "metadata": {
        "id": "gVK2UpQsbAI2",
        "colab_type": "code",
        "colab": {},
        "trusted": true
      },
      "cell_type": "code",
      "source": "size = src_size\nbs=4",
      "execution_count": null,
      "outputs": []
    },
    {
      "metadata": {
        "id": "gca0OlOWbAI5",
        "colab_type": "code",
        "colab": {},
        "trusted": true
      },
      "cell_type": "code",
      "source": "data = (src.transform(get_transforms(), size=size, tfm_y=True)\n        .databunch(bs=bs)\n        .normalize(imagenet_stats))",
      "execution_count": null,
      "outputs": []
    },
    {
      "metadata": {
        "id": "BTGcU7rDbAI8",
        "colab_type": "code",
        "colab": {},
        "trusted": true
      },
      "cell_type": "code",
      "source": "learn = unet_learner(data, models.resnet34, metrics=metrics, wd=wd, bottle=True).load('stage-2').to_fp16();",
      "execution_count": null,
      "outputs": []
    },
    {
      "metadata": {
        "slideshow": {
          "slide_type": "subslide"
        }
      },
      "cell_type": "markdown",
      "source": "buscamos un LR apropiado"
    },
    {
      "metadata": {
        "id": "5rq5aK42bAJA",
        "colab_type": "code",
        "outputId": "a0420793-d060-416d-ad12-91b3c32c46f2",
        "colab": {
          "base_uri": "https://localhost:8080/",
          "height": 301
        },
        "executionInfo": {
          "status": "ok",
          "timestamp": 1569351049549,
          "user_tz": 180,
          "elapsed": 108466,
          "user": {
            "displayName": "Fernando Bernuy",
            "photoUrl": "https://lh3.googleusercontent.com/a-/AAuE7mCfng_4SawMuRFH1hHGNPU87F08Xj3_tmvUpXK8GA=s64",
            "userId": "04009063324923989717"
          }
        },
        "trusted": true
      },
      "cell_type": "code",
      "source": "lr_find(learn)\nlearn.recorder.plot()",
      "execution_count": null,
      "outputs": []
    },
    {
      "metadata": {
        "id": "HAkmIkP0bAJD",
        "colab_type": "code",
        "colab": {},
        "trusted": true
      },
      "cell_type": "code",
      "source": "lr=1e-4",
      "execution_count": null,
      "outputs": []
    },
    {
      "metadata": {
        "slideshow": {
          "slide_type": "subslide"
        }
      },
      "cell_type": "markdown",
      "source": "entrenamos un ciclo"
    },
    {
      "metadata": {
        "id": "70hS1fdWbAJG",
        "colab_type": "code",
        "outputId": "036ea247-9893-445f-c346-8387863b0da9",
        "colab": {
          "base_uri": "https://localhost:8080/",
          "height": 359
        },
        "executionInfo": {
          "status": "ok",
          "timestamp": 1569352428862,
          "user_tz": 180,
          "elapsed": 1219421,
          "user": {
            "displayName": "Fernando Bernuy",
            "photoUrl": "https://lh3.googleusercontent.com/a-/AAuE7mCfng_4SawMuRFH1hHGNPU87F08Xj3_tmvUpXK8GA=s64",
            "userId": "04009063324923989717"
          }
        },
        "trusted": true
      },
      "cell_type": "code",
      "source": "learn.fit_one_cycle(10, slice(lr), pct_start=0.8)",
      "execution_count": null,
      "outputs": []
    },
    {
      "metadata": {
        "id": "GJWAkWskbAJI",
        "colab_type": "code",
        "colab": {},
        "trusted": true
      },
      "cell_type": "code",
      "source": "learn.save('stage-1-big')",
      "execution_count": null,
      "outputs": []
    },
    {
      "metadata": {
        "slideshow": {
          "slide_type": "subslide"
        }
      },
      "cell_type": "markdown",
      "source": "observamos el comportamiento del entrenamiento"
    },
    {
      "metadata": {
        "trusted": true
      },
      "cell_type": "code",
      "source": "learn.recorder.plot()\nlearn.recorder.plot_lr()\nlearn.recorder.plot_losses()",
      "execution_count": null,
      "outputs": []
    },
    {
      "metadata": {
        "id": "WweBKc9nbAJK",
        "colab_type": "code",
        "colab": {},
        "trusted": true
      },
      "cell_type": "code",
      "source": "learn.load('stage-1-big');",
      "execution_count": null,
      "outputs": []
    },
    {
      "metadata": {
        "slideshow": {
          "slide_type": "subslide"
        }
      },
      "cell_type": "markdown",
      "source": "Hacemos una última etapa de fine-tunning"
    },
    {
      "metadata": {
        "id": "OcrcaJtkbAJN",
        "colab_type": "code",
        "colab": {},
        "trusted": true
      },
      "cell_type": "code",
      "source": "learn.unfreeze()",
      "execution_count": null,
      "outputs": []
    },
    {
      "metadata": {
        "id": "jjx1050SbAJP",
        "colab_type": "code",
        "colab": {},
        "trusted": true
      },
      "cell_type": "code",
      "source": "lrs = slice(lr/1000,lr/10)",
      "execution_count": null,
      "outputs": []
    },
    {
      "metadata": {
        "id": "jJ5Mnpo4bAJR",
        "colab_type": "code",
        "outputId": "aa5ca8f1-e14c-4717-8a1e-29ee620865d6",
        "colab": {
          "base_uri": "https://localhost:8080/",
          "height": 359
        },
        "executionInfo": {
          "status": "ok",
          "timestamp": 1569354009994,
          "user_tz": 180,
          "elapsed": 1284203,
          "user": {
            "displayName": "Fernando Bernuy",
            "photoUrl": "https://lh3.googleusercontent.com/a-/AAuE7mCfng_4SawMuRFH1hHGNPU87F08Xj3_tmvUpXK8GA=s64",
            "userId": "04009063324923989717"
          }
        },
        "trusted": true
      },
      "cell_type": "code",
      "source": "learn.fit_one_cycle(10, lrs)",
      "execution_count": null,
      "outputs": []
    },
    {
      "metadata": {
        "id": "DsJhBgQRbAJU",
        "colab_type": "code",
        "colab": {},
        "trusted": true
      },
      "cell_type": "code",
      "source": "learn.save('stage-2-big')",
      "execution_count": null,
      "outputs": []
    },
    {
      "metadata": {
        "slideshow": {
          "slide_type": "subslide"
        }
      },
      "cell_type": "markdown",
      "source": "¿Como son los resultados?\n\nNos compararemos con el paper de [DenseNet](https://arxiv.org/pdf/1611.09326.pdf) (0.915)"
    },
    {
      "metadata": {
        "id": "ZkGUQ8o_bAJW",
        "colab_type": "code",
        "colab": {},
        "trusted": true
      },
      "cell_type": "code",
      "source": "learn.load('stage-2-big');",
      "execution_count": null,
      "outputs": []
    },
    {
      "metadata": {
        "id": "XLbvk2QvbAJY",
        "colab_type": "code",
        "outputId": "bf55eb61-206f-4255-bb97-928b6974d7f4",
        "colab": {
          "base_uri": "https://localhost:8080/",
          "height": 723
        },
        "executionInfo": {
          "status": "ok",
          "timestamp": 1569354014895,
          "user_tz": 180,
          "elapsed": 1282293,
          "user": {
            "displayName": "Fernando Bernuy",
            "photoUrl": "https://lh3.googleusercontent.com/a-/AAuE7mCfng_4SawMuRFH1hHGNPU87F08Xj3_tmvUpXK8GA=s64",
            "userId": "04009063324923989717"
          }
        },
        "trusted": true
      },
      "cell_type": "code",
      "source": "learn.show_results(rows=3, figsize=(9,11))",
      "execution_count": null,
      "outputs": []
    },
    {
      "metadata": {
        "id": "oehgjSZ_bAJb",
        "colab_type": "code",
        "colab": {},
        "trusted": true
      },
      "cell_type": "code",
      "source": "# start: 480x360",
      "execution_count": null,
      "outputs": []
    },
    {
      "metadata": {
        "id": "Hfj7uZ4UbAJg",
        "colab_type": "code",
        "outputId": "b179ca0e-9dff-4e2a-9967-471d9c4e302e",
        "colab": {
          "base_uri": "https://localhost:8080/",
          "height": 1000
        },
        "executionInfo": {
          "status": "ok",
          "timestamp": 1569355638810,
          "user_tz": 180,
          "elapsed": 1270,
          "user": {
            "displayName": "Fernando Bernuy",
            "photoUrl": "https://lh3.googleusercontent.com/a-/AAuE7mCfng_4SawMuRFH1hHGNPU87F08Xj3_tmvUpXK8GA=s64",
            "userId": "04009063324923989717"
          }
        },
        "trusted": true
      },
      "cell_type": "code",
      "source": "print(learn.summary())",
      "execution_count": null,
      "outputs": []
    },
    {
      "metadata": {
        "trusted": true
      },
      "cell_type": "code",
      "source": "learn.destroy()",
      "execution_count": null,
      "outputs": []
    },
    {
      "metadata": {
        "trusted": true
      },
      "cell_type": "code",
      "source": "! rm -r .fastai/data",
      "execution_count": null,
      "outputs": []
    },
    {
      "metadata": {
        "id": "5nIbZQCybAJl",
        "colab_type": "code",
        "colab": {},
        "trusted": true
      },
      "cell_type": "code",
      "source": "",
      "execution_count": null,
      "outputs": []
    },
    {
      "metadata": {
        "id": "69f4xEWzbAJa",
        "colab_type": "text",
        "slideshow": {
          "slide_type": "slide"
        }
      },
      "cell_type": "markdown",
      "source": "## FIN"
    }
  ],
  "metadata": {
    "kernelspec": {
      "name": "python3-azureml",
      "display_name": "Python 3.6 - AzureML",
      "language": "python"
    },
    "colab": {
      "name": "Copia de lesson3-camvid-tiramisu.ipynb",
      "provenance": [
        {
          "file_id": "https://github.com/fastai/course-v3/blob/master/nbs/dl1/lesson3-camvid-tiramisu.ipynb",
          "timestamp": 1569347872286
        }
      ],
      "collapsed_sections": []
    },
    "accelerator": "GPU",
    "language_info": {
      "name": "python",
      "mimetype": "text/x-python",
      "pygments_lexer": "ipython3",
      "nbconvert_exporter": "python",
      "version": "3.6.8",
      "codemirror_mode": {
        "name": "ipython",
        "version": 3
      },
      "file_extension": ".py"
    },
    "celltoolbar": "Slideshow"
  },
  "nbformat": 4,
  "nbformat_minor": 1
}